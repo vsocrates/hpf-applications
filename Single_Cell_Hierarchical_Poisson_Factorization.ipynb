{
 "cells": [
  {
   "cell_type": "markdown",
   "metadata": {},
   "source": [
    "scHPF requires Python >= 3.6 and the packages:\n",
    "\n",
    "numba (version needed depends on Python version, but should be safe with 0.45)\n",
    "scikit-learn\n",
    "pandas\n",
    "(optional) loompy"
   ]
  },
  {
   "cell_type": "code",
   "execution_count": 1,
   "metadata": {},
   "outputs": [
    {
     "name": "stderr",
     "output_type": "stream",
     "text": [
      "/usr/local/lib/python3.6/dist-packages/numba/np/ufunc/parallel.py:363: NumbaWarning: The TBB threading layer requires TBB version 2019.5 or later i.e., TBB_INTERFACE_VERSION >= 11005. Found TBB_INTERFACE_VERSION = 9107. The TBB threading layer is disabled.\n",
      "  warnings.warn(problem)\n"
     ]
    }
   ],
   "source": [
    "import numba\n",
    "import sklearn\n",
    "import pandas\n",
    "import loompy\n",
    "import numpy as np"
   ]
  },
  {
   "cell_type": "code",
   "execution_count": 2,
   "metadata": {},
   "outputs": [
    {
     "name": "stdout",
     "output_type": "stream",
     "text": [
      "Running scvelo 0.2.2 (python 3.6.9) on 2020-12-18 19:07.\n"
     ]
    }
   ],
   "source": [
    "import scvelo as scv\n",
    "scv.logging.print_version()"
   ]
  },
  {
   "cell_type": "code",
   "execution_count": 3,
   "metadata": {},
   "outputs": [],
   "source": [
    "scv.settings.verbosity = 3  # show errors(0), warnings(1), info(2), hints(3)\n",
    "scv.settings.presenter_view = True  # set max width size for presenter view\n",
    "scv.settings.set_figure_params('scvelo')  # for beautified visualization"
   ]
  },
  {
   "cell_type": "code",
   "execution_count": 4,
   "metadata": {},
   "outputs": [],
   "source": [
    "adata = scv.datasets.pancreas()"
   ]
  },
  {
   "cell_type": "code",
   "execution_count": 5,
   "metadata": {},
   "outputs": [],
   "source": [
    "adata2 = adata.copy()"
   ]
  },
  {
   "cell_type": "code",
   "execution_count": 6,
   "metadata": {},
   "outputs": [
    {
     "name": "stdout",
     "output_type": "stream",
     "text": [
      "Filtered out 20801 genes that are detected 20 counts (shared).\n",
      "Normalized count data: X, spliced, unspliced.\n",
      "Exctracted 2000 highly variable genes.\n",
      "Logarithmized X.\n",
      "computing neighbors\n",
      "    finished (0:00:03) --> added \n",
      "    'distances' and 'connectivities', weighted adjacency matrices (adata.obsp)\n",
      "computing moments based on connectivities\n",
      "    finished (0:00:00) --> added \n",
      "    'Ms' and 'Mu', moments of un/spliced abundances (adata.layers)\n"
     ]
    }
   ],
   "source": [
    "scv.pp.filter_and_normalize(adata, min_shared_counts=20, n_top_genes=2000)\n",
    "scv.pp.moments(adata, n_pcs=30, n_neighbors=30)"
   ]
  },
  {
   "cell_type": "markdown",
   "metadata": {},
   "source": [
    "## Now run scHPF on the count matrix\n",
    "\n",
    "1: Prepare and save un-normalized matrix\n",
    "\n",
    "2: Save variables for scHPF commands - note that these files are enclosed within scHPF package install folder\n",
    "\n",
    "3: Run prep command"
   ]
  },
  {
   "cell_type": "code",
   "execution_count": 7,
   "metadata": {},
   "outputs": [
    {
     "name": "stdout",
     "output_type": "stream",
     "text": [
      "(27998, 3696)\n",
      "27998 3696\n",
      "(27998, 3698)\n"
     ]
    }
   ],
   "source": [
    "#create dense matrix from sparse\n",
    "densemat = adata2.X.todense().T.astype(int)\n",
    "i = densemat.shape[0] ; j = densemat.shape[1]\n",
    "print(densemat.shape)\n",
    "print(i, j)\n",
    "#create new numpy object with additional dimensions for scHPF vars\n",
    "hpfmat = np.empty(shape=(i,j+2),dtype=object)\n",
    "print(hpfmat.shape)"
   ]
  },
  {
   "cell_type": "code",
   "execution_count": 8,
   "metadata": {},
   "outputs": [
    {
     "data": {
      "text/plain": [
       "array([['Xkr4', 'Xkr4', 0, ..., 0, 0, 0],\n",
       "       ['Gm37381', 'Gm37381', 0, ..., 0, 0, 0],\n",
       "       ['Rp1', 'Rp1', 0, ..., 0, 0, 0],\n",
       "       ...,\n",
       "       ['Gm29504', 'Gm29504', 0, ..., 0, 0, 0],\n",
       "       ['Gm20837', 'Gm20837', 0, ..., 0, 0, 0],\n",
       "       ['Erdr1', 'Erdr1', 0, ..., 0, 0, 0]], dtype=object)"
      ]
     },
     "execution_count": 8,
     "metadata": {},
     "output_type": "execute_result"
    }
   ],
   "source": [
    "#get list of genes/vars from the original matrix\n",
    "adata2.var.shape #this is the number of genes. should match the first dim of both matrixes\n",
    "adata2.var.index\n",
    "#fill in the new matrix\n",
    "hpfmat[:,0]=adata2.var.index #since these are already ensmble IDs the two cols are equivalent\n",
    "hpfmat[:,1]=adata2.var.index\n",
    "hpfmat[:,2:]=densemat\n",
    "hpfmat"
   ]
  },
  {
   "cell_type": "code",
   "execution_count": 9,
   "metadata": {},
   "outputs": [],
   "source": [
    "#save hpfmat\n",
    "np.savetxt(\"/data/tapedir/notebooks/HPF_Project/hpfmat.csv\", hpfmat, fmt=\"%s\", delimiter=\" \")"
   ]
  },
  {
   "cell_type": "code",
   "execution_count": 10,
   "metadata": {},
   "outputs": [],
   "source": [
    "whitelist = \"/data/tapedir/notebooks/HPF_Project/scHPF/resources/gencode.vM19.annotation.gene_l1l2.pc_TRC_IGC.stripped.txt\"\n",
    "countmatrix =\"/data/tapedir/notebooks/HPF_Project/hpfmat.csv\"\n",
    "outdir = \"/data/tapedir/notebooks/HPF_Project/hpf-out\""
   ]
  },
  {
   "cell_type": "code",
   "execution_count": 14,
   "metadata": {},
   "outputs": [
    {
     "name": "stdout",
     "output_type": "stream",
     "text": [
      "Loading data.....\n",
      "\tloaded 10000 genes for 3696 cells\n",
      "\tloaded 20000 genes for 3696 cells\n",
      ".....found 3696 cells and 27998 genes\n",
      "Generating masks for filtering.....\n",
      "Filtering data.....\n",
      "Writing filtered data to file.....\n",
      "Writing commandline arguments to file.....\n"
     ]
    }
   ],
   "source": [
    "#running scHPF\n",
    "!scHPF prep -i {countmatrix} -o {outdir} -m 10 -w {whitelist} --filter-by-gene-name"
   ]
  },
  {
   "cell_type": "code",
   "execution_count": 15,
   "metadata": {},
   "outputs": [],
   "source": [
    "prefix = \"Pancreas\"\n",
    "prepfile = \"/data/tapedir/notebooks/HPF_Project/hpf-out/filtered.mtx\""
   ]
  },
  {
   "cell_type": "code",
   "execution_count": 16,
   "metadata": {},
   "outputs": [
    {
     "name": "stdout",
     "output_type": "stream",
     "text": [
      "Loading data.....\n",
      ".....found 3696 cells and 12170 genes in /data/tapedir/notebooks/HPF_Project/hpf-out/filtered.mtx\n",
      "Running trials.....\n",
      "[Iter.    0]  loss:17.673517  pct:100.000000000\n",
      "[Iter.   10]  loss:2.278410  pct:-87.108337068\n",
      "[Iter.   20]  loss:2.169655  pct:-4.773284586\n",
      "[Iter.   30]  loss:2.084631  pct:-3.918772343\n",
      "[Iter.   40]  loss:2.067968  pct:-0.799327803\n",
      "[Iter.   50]  loss:2.058129  pct:-0.475792285\n",
      "[Iter.   60]  loss:2.054124  pct:-0.194620569\n",
      "[Iter.   70]  loss:2.052274  pct:-0.090047304\n",
      "[Iter.   80]  loss:2.051229  pct:-0.050895589\n",
      "[Iter.   90]  loss:2.050585  pct:-0.031433867\n",
      "[Iter.  100]  loss:2.050127  pct:-0.022330123\n",
      "[Iter.  110]  loss:2.049741  pct:-0.018809230\n",
      "[Iter.  120]  loss:2.049311  pct:-0.020978323\n",
      "[Iter.  130]  loss:2.048855  pct:-0.022245342\n",
      "[Iter.  140]  loss:2.048407  pct:-0.021890244\n",
      "[Iter.  150]  loss:2.047862  pct:-0.026582177\n",
      "[Iter.  160]  loss:2.046895  pct:-0.047217174\n",
      "[Iter.  170]  loss:2.046167  pct:-0.035563737\n",
      "[Iter.  180]  loss:2.045527  pct:-0.031270354\n",
      "[Iter.  190]  loss:2.044605  pct:-0.045075251\n",
      "[Iter.  200]  loss:2.042986  pct:-0.079203690\n",
      "[Iter.  210]  loss:2.042386  pct:-0.029355308\n",
      "[Iter.  220]  loss:2.041832  pct:-0.027157362\n",
      "[Iter.  230]  loss:2.041265  pct:-0.027730216\n",
      "[Iter.  240]  loss:2.040760  pct:-0.024741156\n",
      "[Iter.  250]  loss:2.040331  pct:-0.021023945\n",
      "[Iter.  260]  loss:2.039979  pct:-0.017250650\n",
      "[Iter.  270]  loss:2.039665  pct:-0.015421935\n",
      "[Iter.  280]  loss:2.039326  pct:-0.016610661\n",
      "[Iter.  290]  loss:2.039056  pct:-0.013243642\n",
      "[Iter.  300]  loss:2.038823  pct:-0.011434795\n",
      "[Iter.  310]  loss:2.038619  pct:-0.009993672\n",
      "[Iter.  320]  loss:2.038424  pct:-0.009550752\n",
      "[Iter.  330]  loss:2.038265  pct:-0.007823006\n",
      "[Iter.  340]  loss:2.038141  pct:-0.006073855\n",
      "[Iter.  350]  loss:2.038030  pct:-0.005460653\n",
      "[Iter.  360]  loss:2.037920  pct:-0.005370649\n",
      "[Iter.  370]  loss:2.037838  pct:-0.004056340\n",
      "[Iter.  380]  loss:2.037789  pct:-0.002378462\n",
      "[Iter.  390]  loss:2.037750  pct:-0.001938127\n",
      "[Iter.  400]  loss:2.037718  pct:-0.001574550\n",
      "[Iter.  410]  loss:2.037689  pct:-0.001378820\n",
      "[Iter.  420]  loss:2.037663  pct:-0.001273880\n",
      "[Iter.  430]  loss:2.037625  pct:-0.001904561\n",
      "[Iter.  440]  loss:2.037605  pct:-0.000945020\n",
      "[Iter.  450]  loss:2.037593  pct:-0.000592244\n",
      "converged\n",
      "New best!\n",
      "Trial 0 loss: 2.037593\n",
      "Best loss: 2.037593 (trial 0)\n",
      "[Iter.    0]  loss:17.669488  pct:100.000000000\n",
      "[Iter.   10]  loss:2.275522  pct:-87.121742159\n",
      "[Iter.   20]  loss:2.134234  pct:-6.209028061\n",
      "[Iter.   30]  loss:2.079794  pct:-2.550804641\n",
      "[Iter.   40]  loss:2.065381  pct:-0.692993975\n",
      "[Iter.   50]  loss:2.053526  pct:-0.574000172\n",
      "[Iter.   60]  loss:2.048173  pct:-0.260676890\n",
      "[Iter.   70]  loss:2.045801  pct:-0.115794834\n",
      "[Iter.   80]  loss:2.043923  pct:-0.091841766\n",
      "[Iter.   90]  loss:2.042561  pct:-0.066630026\n",
      "[Iter.  100]  loss:2.041320  pct:-0.060732855\n",
      "[Iter.  110]  loss:2.040324  pct:-0.048780423\n",
      "[Iter.  120]  loss:2.039748  pct:-0.028272456\n",
      "[Iter.  130]  loss:2.039404  pct:-0.016823124\n",
      "[Iter.  140]  loss:2.039200  pct:-0.010032135\n",
      "[Iter.  150]  loss:2.039082  pct:-0.005752187\n",
      "[Iter.  160]  loss:2.038913  pct:-0.008329270\n",
      "[Iter.  170]  loss:2.038799  pct:-0.005561671\n",
      "[Iter.  180]  loss:2.038730  pct:-0.003407887\n",
      "[Iter.  190]  loss:2.038671  pct:-0.002883323\n",
      "[Iter.  200]  loss:2.038643  pct:-0.001379230\n",
      "[Iter.  210]  loss:2.038606  pct:-0.001792673\n",
      "[Iter.  220]  loss:2.038583  pct:-0.001141827\n",
      "[Iter.  230]  loss:2.038556  pct:-0.001329034\n",
      "[Iter.  240]  loss:2.038509  pct:-0.002297443\n",
      "[Iter.  250]  loss:2.038480  pct:-0.001440786\n",
      "[Iter.  260]  loss:2.038456  pct:-0.001179957\n",
      "[Iter.  270]  loss:2.038435  pct:-0.001025493\n",
      "[Iter.  280]  loss:2.038433  pct:-0.000100065\n",
      "[Iter.  290]  loss:2.038430  pct:-0.000123776\n",
      "converged\n",
      "Trial 1 loss: 2.038430\n",
      "Best loss: 2.037593 (trial 0)\n",
      "[Iter.    0]  loss:17.659752  pct:100.000000000\n",
      "[Iter.   10]  loss:2.277211  pct:-87.105078862\n",
      "[Iter.   20]  loss:2.142530  pct:-5.914304293\n",
      "[Iter.   30]  loss:2.093448  pct:-2.290840363\n",
      "[Iter.   40]  loss:2.066706  pct:-1.277437842\n",
      "[Iter.   50]  loss:2.058435  pct:-0.400174654\n",
      "[Iter.   60]  loss:2.051491  pct:-0.337351496\n",
      "[Iter.   70]  loss:2.047854  pct:-0.177293737\n",
      "[Iter.   80]  loss:2.045505  pct:-0.114704273\n",
      "[Iter.   90]  loss:2.043693  pct:-0.088580920\n",
      "[Iter.  100]  loss:2.042442  pct:-0.061218134\n",
      "[Iter.  110]  loss:2.041576  pct:-0.042406540\n",
      "[Iter.  120]  loss:2.041122  pct:-0.022234344\n",
      "[Iter.  130]  loss:2.040703  pct:-0.020527365\n",
      "[Iter.  140]  loss:2.040478  pct:-0.011023695\n",
      "[Iter.  150]  loss:2.040332  pct:-0.007151418\n",
      "[Iter.  160]  loss:2.040234  pct:-0.004813723\n",
      "[Iter.  170]  loss:2.040149  pct:-0.004164361\n",
      "[Iter.  180]  loss:2.040074  pct:-0.003649239\n",
      "[Iter.  190]  loss:2.040014  pct:-0.002968638\n",
      "[Iter.  200]  loss:2.039957  pct:-0.002752342\n",
      "[Iter.  210]  loss:2.039897  pct:-0.002945072\n",
      "[Iter.  220]  loss:2.039836  pct:-0.003005787\n",
      "[Iter.  230]  loss:2.039778  pct:-0.002836869\n",
      "[Iter.  240]  loss:2.039720  pct:-0.002862270\n",
      "[Iter.  250]  loss:2.039662  pct:-0.002833019\n",
      "[Iter.  260]  loss:2.039605  pct:-0.002805281\n",
      "[Iter.  270]  loss:2.039553  pct:-0.002546659\n",
      "[Iter.  280]  loss:2.039501  pct:-0.002519916\n",
      "[Iter.  290]  loss:2.039449  pct:-0.002568360\n",
      "[Iter.  300]  loss:2.039393  pct:-0.002775399\n",
      "[Iter.  310]  loss:2.039336  pct:-0.002794486\n",
      "[Iter.  320]  loss:2.039280  pct:-0.002709676\n",
      "[Iter.  330]  loss:2.039229  pct:-0.002500103\n",
      "[Iter.  340]  loss:2.039180  pct:-0.002403508\n",
      "[Iter.  350]  loss:2.039136  pct:-0.002154768\n",
      "[Iter.  360]  loss:2.039095  pct:-0.002003231\n",
      "[Iter.  370]  loss:2.039057  pct:-0.001906800\n",
      "[Iter.  380]  loss:2.039020  pct:-0.001779852\n",
      "[Iter.  390]  loss:2.038986  pct:-0.001691456\n",
      "[Iter.  400]  loss:2.038948  pct:-0.001845303\n",
      "[Iter.  410]  loss:2.038916  pct:-0.001559527\n",
      "[Iter.  420]  loss:2.038881  pct:-0.001744102\n",
      "[Iter.  430]  loss:2.038850  pct:-0.001498916\n",
      "[Iter.  440]  loss:2.038827  pct:-0.001130734\n",
      "[Iter.  450]  loss:2.038805  pct:-0.001070482\n",
      "[Iter.  460]  loss:2.038786  pct:-0.000931793\n",
      "[Iter.  470]  loss:2.038769  pct:-0.000844096\n",
      "converged\n",
      "Trial 2 loss: 2.038769\n",
      "Best loss: 2.037593 (trial 0)\n",
      "[Iter.    0]  loss:17.685535  pct:100.000000000\n",
      "[Iter.   10]  loss:2.273179  pct:-87.146678090\n",
      "[Iter.   20]  loss:2.132248  pct:-6.199702597\n",
      "[Iter.   30]  loss:2.093788  pct:-1.803731994\n",
      "[Iter.   40]  loss:2.069473  pct:-1.161302366\n",
      "[Iter.   50]  loss:2.059328  pct:-0.490223505\n",
      "[Iter.   60]  loss:2.052285  pct:-0.342020918\n",
      "[Iter.   70]  loss:2.046495  pct:-0.282109158\n",
      "[Iter.   80]  loss:2.042460  pct:-0.197189760\n",
      "[Iter.   90]  loss:2.039712  pct:-0.134527060\n",
      "[Iter.  100]  loss:2.037898  pct:-0.088945383\n",
      "[Iter.  110]  loss:2.036326  pct:-0.077125939\n",
      "[Iter.  120]  loss:2.034946  pct:-0.067784420\n",
      "[Iter.  130]  loss:2.034098  pct:-0.041670435\n",
      "[Iter.  140]  loss:2.033442  pct:-0.032247506\n",
      "[Iter.  150]  loss:2.032956  pct:-0.023893325\n",
      "[Iter.  160]  loss:2.032605  pct:-0.017239584\n",
      "[Iter.  170]  loss:2.032340  pct:-0.013064977\n",
      "[Iter.  180]  loss:2.032153  pct:-0.009210315\n",
      "[Iter.  190]  loss:2.032004  pct:-0.007316584\n",
      "[Iter.  200]  loss:2.031891  pct:-0.005546267\n",
      "[Iter.  210]  loss:2.031808  pct:-0.004121064\n",
      "[Iter.  220]  loss:2.031751  pct:-0.002795514\n",
      "[Iter.  230]  loss:2.031698  pct:-0.002606496\n",
      "[Iter.  240]  loss:2.031655  pct:-0.002129044\n",
      "[Iter.  250]  loss:2.031613  pct:-0.002067653\n",
      "[Iter.  260]  loss:2.031576  pct:-0.001804535\n",
      "[Iter.  270]  loss:2.031556  pct:-0.000995025\n",
      "[Iter.  280]  loss:2.031543  pct:-0.000605060\n",
      "converged\n",
      "New best!\n",
      "Trial 3 loss: 2.031543\n",
      "Best loss: 2.031543 (trial 3)\n",
      "[Iter.    0]  loss:17.688563  pct:100.000000000\n",
      "[Iter.   10]  loss:2.276849  pct:-87.128127078\n",
      "[Iter.   20]  loss:2.136561  pct:-6.161499126\n",
      "[Iter.   30]  loss:2.084377  pct:-2.442422298\n",
      "[Iter.   40]  loss:2.064771  pct:-0.940645126\n",
      "[Iter.   50]  loss:2.056079  pct:-0.420958556\n",
      "[Iter.   60]  loss:2.051195  pct:-0.237549197\n",
      "[Iter.   70]  loss:2.047946  pct:-0.158407043\n",
      "[Iter.   80]  loss:2.045179  pct:-0.135076271\n",
      "[Iter.   90]  loss:2.042736  pct:-0.119447091\n",
      "[Iter.  100]  loss:2.040597  pct:-0.104729630\n",
      "[Iter.  110]  loss:2.039223  pct:-0.067316332\n",
      "[Iter.  120]  loss:2.038581  pct:-0.031485560\n",
      "[Iter.  130]  loss:2.038220  pct:-0.017719728\n",
      "[Iter.  140]  loss:2.037972  pct:-0.012183583\n",
      "[Iter.  150]  loss:2.037790  pct:-0.008936377\n"
     ]
    },
    {
     "name": "stdout",
     "output_type": "stream",
     "text": [
      "[Iter.  160]  loss:2.037671  pct:-0.005824464\n",
      "[Iter.  170]  loss:2.037571  pct:-0.004889933\n",
      "[Iter.  180]  loss:2.037457  pct:-0.005617623\n",
      "[Iter.  190]  loss:2.037370  pct:-0.004257158\n",
      "[Iter.  200]  loss:2.037330  pct:-0.001971232\n",
      "[Iter.  210]  loss:2.037289  pct:-0.001988183\n",
      "[Iter.  220]  loss:2.037272  pct:-0.000846070\n",
      "[Iter.  230]  loss:2.037253  pct:-0.000963764\n",
      "converged\n",
      "Trial 4 loss: 2.037253\n",
      "Best loss: 2.031543 (trial 3)\n",
      "Saving best model (7 factors).....\n",
      "Writing commandline arguments to file.....\n",
      "/data/tapedir/notebooks/HPF_Project/hpf-out/Pancreas.train_commandline_args.json\n",
      "\n",
      "\n"
     ]
    }
   ],
   "source": [
    "!scHPF train -i {prepfile} -o {outdir} -p {prefix} -k 7 -t 5"
   ]
  },
  {
   "cell_type": "markdown",
   "metadata": {},
   "source": [
    "### Now we have prepared the matrix, fitted our model, and saved our output.\n",
    "\n",
    "### Next we output a gene x cell score matrix and a ranked gene list for further analyses"
   ]
  },
  {
   "cell_type": "code",
   "execution_count": 18,
   "metadata": {},
   "outputs": [
    {
     "name": "stdout",
     "output_type": "stream",
     "text": [
      "Loading model.....\n",
      "Calculating scores.....\n",
      "Saving scores.....\n",
      "Calculating mean cellscore fractions.....\n",
      "Calculating maximum pairwise overlaps.....\n",
      "Writing commandline arguments to file.....\n"
     ]
    }
   ],
   "source": [
    "#To get gene- and cell-scores in a tab-delimited file, ordered like the genes and cells in the train file and with a column for each factor:\n",
    "model = \"/data/tapedir/notebooks/HPF_Project/hpf-out/Pancreas.scHPF_K7_b0_5trials.joblib\"\n",
    "\n",
    "!scHPF score -m {model} -o {outdir} -p {prefix}"
   ]
  },
  {
   "cell_type": "code",
   "execution_count": 19,
   "metadata": {},
   "outputs": [
    {
     "name": "stdout",
     "output_type": "stream",
     "text": [
      "Loading model.....\n",
      "Calculating scores.....\n",
      "Saving scores.....\n",
      "Calculating mean cellscore fractions.....\n",
      "Calculating maximum pairwise overlaps.....\n",
      "Ranking genes.....\n",
      ".....using 1'th column of genefile as gene label\n",
      "Saving ranked genes.....\n",
      "Writing commandline arguments to file.....\n"
     ]
    }
   ],
   "source": [
    "#To also generate a tab-delimited file of gene names, ranked by gene-score for each factor:\n",
    "genesfile = \"/data/tapedir/notebooks/HPF_Project/hpf-out/genes.txt\"\n",
    "!scHPF score -m {model} -o {outdir} -p {prefix} -g {genesfile}"
   ]
  },
  {
   "cell_type": "code",
   "execution_count": null,
   "metadata": {},
   "outputs": [],
   "source": []
  }
 ],
 "metadata": {
  "kernelspec": {
   "display_name": "Python 3",
   "language": "python",
   "name": "python3"
  },
  "language_info": {
   "codemirror_mode": {
    "name": "ipython",
    "version": 3
   },
   "file_extension": ".py",
   "mimetype": "text/x-python",
   "name": "python",
   "nbconvert_exporter": "python",
   "pygments_lexer": "ipython3",
   "version": "3.6.9"
  }
 },
 "nbformat": 4,
 "nbformat_minor": 4
}
